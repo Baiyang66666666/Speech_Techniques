{
 "cells": [
  {
   "cell_type": "code",
   "execution_count": 1,
   "id": "0295c796",
   "metadata": {},
   "outputs": [
    {
     "data": {
      "text/plain": [
       "<torch._C.Generator at 0x1c3f868f9b0>"
      ]
     },
     "execution_count": 1,
     "metadata": {},
     "output_type": "execute_result"
    }
   ],
   "source": [
    "import numpy as np\n",
    "from matplotlib import pyplot as plt\n",
    "import os\n",
    "from torch.utils.data import Dataset\n",
    "from torch.utils.data import DataLoader\n",
    "from torchvision import transforms\n",
    "import torch\n",
    "import torch.nn as nn\n",
    "import torch.nn.functional as F \n",
    "import torch.optim as optim\n",
    "from tqdm import tqdm\n",
    "from sklearn.metrics import roc_curve\n",
    "import torch.multiprocessing as mp\n",
    "\n",
    "\n",
    "# imports from my files\n",
    "from VoiceData import VoiceDataSet\n",
    "\n",
    "os.environ[\"KMP_DUPLICATE_LIB_OK\"]=\"TRUE\"\n",
    "\n",
    "\n",
    "torch.manual_seed(12)"
   ]
  },
  {
   "cell_type": "code",
   "execution_count": 2,
   "id": "d21b07d6",
   "metadata": {},
   "outputs": [],
   "source": [
    "from torch.utils.data import Dataset, DataLoader\n",
    "import os, random\n",
    "import numpy as np\n",
    "import torchvision\n",
    "data_folder = \"/Users/dell/Desktop/assignments/Task4VAD/com4511/audio\"\n",
    "labs_folder = \"/Users/dell/Desktop/assignments/Task4VAD/com4511/labels\"\n",
    "\n",
    "train_prefixes = [\"N\", \"V\"]\n",
    "valid_prefixes = [\"E\"]\n",
    "test_prefixes = [\"C\"]\n",
    "\n",
    "#dataset class for loading and preprocessing audio data for training, validation, and testing purposes.\n",
    "class VoiceDataSet (Dataset):\n",
    "    def __init__(self, dataset, transform=None, window_length=512):\n",
    "        self.prefix = [\"C\"]\n",
    "        #These prefixes are used later to generate file paths for training, validation, and testing data\n",
    "        if dataset.lower () == \"train\":\n",
    "            self.prefix = train_prefixes\n",
    "        if dataset.lower () == \"val\":\n",
    "            self.prefix = valid_prefixes\n",
    "        if dataset.lower () == \"test\":\n",
    "            print (dataset.lower ())\n",
    "            self.prefix == [\"C\"]\n",
    "\n",
    "        self.paths = self.gen_paths (self.prefix)\n",
    "        self.len = len (self.paths[0])\n",
    "        self.win = window_length\n",
    "        self.transform = transform\n",
    "\n",
    "    def __getitem__(self, idx):\n",
    "        X, y = self.readpath (self.paths[0][idx], self.paths[1][idx])\n",
    "        l = X.size (dim=0)\n",
    "        i = random.randint (0, l - self.win)\n",
    "\n",
    "        if self.win == 0:\n",
    "            if self.transform:\n",
    "                temp = X.view (1, -1, 13).permute (2, 0, 1)\n",
    "\n",
    "                X = self.transform (temp)\n",
    "                X = X.view (13, -1).permute (1, 0)\n",
    "                return X, y.type (torch.float32)\n",
    "            else:\n",
    "                return X, y.type (torch.float32)\n",
    "\n",
    "        X = X[i:i + self.win]\n",
    "        y = y[i:i + self.win]\n",
    "\n",
    "        if self.transform:\n",
    "            temp = X.view (1, -1, 13).permute (2, 0, 1)\n",
    "\n",
    "            X = self.transform (temp)\n",
    "            X = X.view (13, -1).permute (1, 0)\n",
    "\n",
    "        return X, y.type (torch.float32)\n",
    "\n",
    "    def __len__(self):\n",
    "        return self.len\n",
    "\n",
    "    def readpath(self, d_path, l_path):\n",
    "\n",
    "        with open (d_path, 'rb') as f:\n",
    "            X = torch.from_numpy (np.load (f))\n",
    "\n",
    "        with open (l_path, 'rb') as f:\n",
    "            y = torch.from_numpy (np.load (f))\n",
    "\n",
    "        return X, y\n",
    "\n",
    "    def gen_paths(self, prefixes):\n",
    "        \"\"\"gen_paths given a prefix, generate paths to files\n",
    "\n",
    "  Parameters\n",
    "  ----------\n",
    "  prefixes : string\n",
    "      Prefix for train, dev or test\n",
    "\n",
    "  Returns\n",
    "  -------\n",
    "  (str, str)\n",
    "      (data path, labels path))\n",
    "  \"\"\"\n",
    "        os.chdir (data_folder)\n",
    "        data_paths = [f\"{data_folder}/{file}\" for file in os.listdir () if file[0] in prefixes]\n",
    "\n",
    "        os.chdir (labs_folder)\n",
    "        labs_paths = [f\"{labs_folder}/{file}\" for file in os.listdir () if file[0] in prefixes]\n",
    "\n",
    "        return (data_paths, labs_paths)\n",
    "\n",
    "    def calc_means_std(self, prefixes=None):\n",
    "        if not prefixes:\n",
    "            prefixes = self.prefix\n",
    "        a_paths, l_paths = self.gen_paths (self, prefixes=prefixes)\n",
    "        a_data, l_data = [], []\n",
    "\n",
    "        for a, l in zip (a_paths, l_paths):\n",
    "            temp_d, temp_l = self.readpath (self, a, l)\n",
    "            a_data.append (temp_d)\n",
    "\n",
    "        total_data = torch.cat (a_data)\n",
    "\n",
    "        stds, means = torch.std_mean (total_data, dim=0)\n",
    "\n",
    "        return stds, means\n",
    "\n",
    "\n"
   ]
  },
  {
   "cell_type": "code",
   "execution_count": 3,
   "id": "4d9b9d48",
   "metadata": {},
   "outputs": [],
   "source": [
    "def calc_means_std(prefixes):\n",
    "    a_paths, l_paths = VoiceDataSet.gen_paths(VoiceDataSet,prefixes=prefixes)\n",
    "    a_data, l_data = [], []\n",
    "    \n",
    "    for a, l in zip(a_paths, l_paths):\n",
    "        temp_d, temp_l = VoiceDataSet.readpath(VoiceDataSet, a, l)\n",
    "        a_data.append(temp_d)\n",
    "    \n",
    "    total_data = torch.cat(a_data)\n",
    "    \n",
    "    stds, means = torch.std_mean(total_data, dim=0)\n",
    "    \n",
    "    return stds, means\n",
    "    \n",
    "    \n",
    "train_stds, train_means = calc_means_std(train_prefixes)\n",
    "\n",
    "norm_transform = transforms.Compose([\n",
    "    transforms.Normalize(train_means, train_stds)]\n",
    ")\n",
    "\n",
    "    "
   ]
  },
  {
   "cell_type": "code",
   "execution_count": 4,
   "id": "5e25bdb9",
   "metadata": {},
   "outputs": [],
   "source": [
    "window_length = 512\n",
    "\n",
    "VDS = VoiceDataSet(\"train\", window_length=window_length, transform=norm_transform)\n",
    "\n",
    "b_size = 8\n",
    "\n",
    "train_loader = DataLoader(VDS, shuffle=True, batch_size=b_size)"
   ]
  },
  {
   "cell_type": "code",
   "execution_count": 5,
   "id": "3be68ea2",
   "metadata": {},
   "outputs": [],
   "source": [
    "class LSTM_network(nn.Module):\n",
    "    def __init__(self, hidden_size = 13, hidden_layers=1, bidirectional = False):\n",
    "        super(LSTM_network,self).__init__()\n",
    "        self.lstm = nn.LSTM(input_size=13,hidden_size=hidden_size,num_layers=hidden_layers,batch_first=True)\n",
    "        self.fc1 = nn.Linear(in_features=hidden_size,out_features=1)\n",
    "        self.sigmoid = nn.Sigmoid()\n",
    "        self.bidirectional = bidirectional\n",
    "\n",
    "    def forward(self,x):\n",
    "       # print(f\"x :{x.size}\")\n",
    "        output,_status = self.lstm(x)\n",
    "        #print(f\"after lstm: {output.size()}\")\n",
    "        output = self.fc1(output)\n",
    "        #print(f\"after lin layer: {output.size()}\")\n",
    "        output = self.sigmoid(output)\n",
    "       # print(f\"after sigmoid: {output.size()}\")\n",
    "        return output"
   ]
  },
  {
   "cell_type": "code",
   "execution_count": 6,
   "id": "ca80f448",
   "metadata": {},
   "outputs": [
    {
     "name": "stdout",
     "output_type": "stream",
     "text": [
      "torch.Size([1, 8096, 13])\n",
      "torch.Size([8095, 13])\n"
     ]
    },
    {
     "name": "stderr",
     "output_type": "stream",
     "text": [
      "Epoch: 20, loss: 0.09954: 100%|████████████████████████████████████████████████████████| 20/20 [00:06<00:00,  3.00it/s]\n"
     ]
    }
   ],
   "source": [
    "from tqdm import tqdm\n",
    "\n",
    "#training løøp\n",
    "\n",
    "model = LSTM_network(hidden_size=26, hidden_layers=2, bidirectional=True)\n",
    "crit = nn.BCELoss() # binary classfication task, BCEL is obvious choice.\n",
    "optimiser = optim.Adam(model.parameters(), lr=1e-4 , betas = [0.9, 0.99])#0.00001) \n",
    "# classifer = \n",
    "#\n",
    "eps = 1e-7\n",
    "epochs = 20\n",
    "losses = [0.1]\n",
    "\n",
    "train_loader.dataset.win = 5000\n",
    "dat_len = len(train_loader.dataset)\n",
    "\n",
    "# dat_len=8096\n",
    "test_win_len = 8096\n",
    "dev_X, dev_y = next(iter(DataLoader(VoiceDataSet(\"val\", transform=norm_transform, window_length=8096))))\n",
    "\n",
    "print(dev_X.shape)\n",
    "dev_x = dev_X[0, 0:-1, :]\n",
    "dev_y = dev_y[0, 0:-1, :]\n",
    "print(dev_x.shape)\n",
    "train_loader.dataset.win = window_length\n",
    "\n",
    "t =tqdm(range(epochs))\n",
    "for e in t:\n",
    "    epoch_loss = 0\n",
    "    for i, (X, y) in enumerate(train_loader):\n",
    "        y_pred = model(X)\n",
    "        \n",
    "        optimiser.zero_grad()\n",
    "        loss = crit(y_pred, y)\n",
    "        \n",
    "        loss.backward()\n",
    "        optimiser.step()\n",
    "        \n",
    "        dev_pred = model(dev_x.unsqueeze(0))\n",
    "        \n",
    "        epoch_loss += crit(dev_pred.squeeze(0), dev_y)\n",
    "        \n",
    "    if e % 1 == 0:    \n",
    "        epoch_loss /=  dat_len\n",
    "        losses.append(epoch_loss)\n",
    "        t.set_description(desc=f\"Epoch: {e + 1}, loss: {round(epoch_loss.item(), 5)}\")\n",
    "        \n",
    "    if abs(losses[-1] - losses[-2]) < eps:\n",
    "        print(\"Converged!\")\n",
    "        break\n",
    " "
   ]
  },
  {
   "cell_type": "code",
   "execution_count": 7,
   "id": "70170793",
   "metadata": {},
   "outputs": [
    {
     "data": {
      "image/png": "[encoded data removed]",
      "text/plain": [
       "<Figure size 432x288 with 1 Axes>"
      ]
     },
     "metadata": {
      "needs_background": "light"
     },
     "output_type": "display_data"
    }
   ],
   "source": [
    "if losses[0] == 0.1: losses.remove(0.1)\n",
    "plt.plot([l.item() for l in losses])\n",
    "# plt.yscale('log')\n",
    "plt.show()"
   ]
  },
  {
   "cell_type": "code",
   "execution_count": 8,
   "id": "ebdaae8b",
   "metadata": {},
   "outputs": [
    {
     "name": "stdout",
     "output_type": "stream",
     "text": [
      "test\n",
      "0.6645566951944446\n",
      "0.6332076247942952\n",
      "0.6380362279897576\n",
      "0.610500297907202\n",
      "0.5982149068123566\n",
      "0.5963478240207202\n",
      "0.5836186837639838\n",
      "0.3934320000791445\n"
     ]
    }
   ],
   "source": [
    "from VoiceData import VoiceDataSet\n",
    "\n",
    "import tqdm\n",
    "VDS = VoiceDataSet(\"test\", window_length=0, transform=norm_transform)\n",
    "\n",
    "test_loader = DataLoader(VDS, shuffle=True, batch_size=1)\n",
    "\n",
    "for i, (X, y) in enumerate(test_loader):\n",
    "    \n",
    "    with torch.no_grad():\n",
    "        y_pred = model(X)\n",
    "        \n",
    "        y_pred = np.array(y_pred.squeeze())\n",
    "        y = np.array(y.squeeze())\n",
    "        \n",
    "        \n",
    "        fpr, tpr, threshold = roc_curve(y, y_pred, pos_label=1)\n",
    "        fnr = 1 - tpr\n",
    "        eer_threshold = threshold[np.nanargmin(np.absolute((fnr - fpr)))]\n",
    "        EER = fpr[np.nanargmin(np.absolute((fnr - fpr)))]\n",
    "        print(EER)"
   ]
  },
  {
   "cell_type": "code",
   "execution_count": 9,
   "id": "11bc2d4a",
   "metadata": {},
   "outputs": [],
   "source": [
    "import torch.nn.functional as F\n",
    "\n",
    "\n",
    "class FFNN_network (nn.Module):\n",
    "    def __init__(self, hidden_dims=[13], input_size=13, out_size=1):\n",
    "        super (FFNN_network, self).__init__ ()\n",
    "        self.layers = nn.ModuleList ()\n",
    "        self.layers.append (nn.Linear (input_size, hidden_dims[0]))\n",
    "        self.act = nn.ReLU ()\n",
    "        self.sigmoid = nn.Sigmoid ()\n",
    "\n",
    "        # hidden layers generation\n",
    "        cur_dim = hidden_dims[0]\n",
    "        for l in hidden_dims:\n",
    "            self.layers.append (nn.Linear (cur_dim, l))\n",
    "            cur_dim = l  # save this so that the\n",
    "\n",
    "        self.layers.append (nn.Linear (cur_dim, out_size))\n",
    "\n",
    "    def forward(self, x):\n",
    "        for layer in self.layers[:-1]:  # loop over all but last, ReLu not applied to last\n",
    "            x = self.act (layer (x))\n",
    "        out = self.sigmoid (self.layers[-1] (x))\n",
    "        return out"
   ]
  },
  {
   "cell_type": "code",
   "execution_count": 10,
   "id": "d3e3ed9c",
   "metadata": {},
   "outputs": [
    {
     "name": "stdout",
     "output_type": "stream",
     "text": [
      "[11, 10, 9, 8, 7, 6, 5, 4, 3]\n",
      "torch.Size([1, 32768, 13])\n",
      "torch.Size([32767, 13])\n"
     ]
    },
    {
     "name": "stderr",
     "output_type": "stream",
     "text": [
      "Epoch: 499, dev loss: 0.01125, tr loss: 0.027, dev change: -7.312823283044806e-05: 100%|█| 500/500 [04:32<00:00,  1.83i\n"
     ]
    }
   ],
   "source": [
    "### FFNN\n",
    "from tqdm import tqdm\n",
    "\n",
    "print([l for l in range(11, 2, -1)])\n",
    "model = FFNN_network(hidden_dims=[28, 26])\n",
    "\n",
    "crit = nn.BCELoss() # binary classfication task, BCEL is obvious choice.\n",
    "optimiser = optim.Adam(model.parameters(), lr=8e-4 , betas = [0.9, 0.99])#0.00001) \n",
    "# classifer = \n",
    "#\n",
    "eps = 1e-8\n",
    "epochs = 500\n",
    "# losses = [0.1]\n",
    "dev_losses = []\n",
    "tr_losses = []\n",
    "preds = []\n",
    "\n",
    "\n",
    "train_loader.dataset.win = 5000\n",
    "dat_len = len(train_loader.dataset)\n",
    "\n",
    "# dat_len=8096\n",
    "test_win_len = 32768\n",
    "dev_X, dev_y = next(iter(DataLoader(VoiceDataSet(\"val\", transform=norm_transform, window_length=test_win_len)))) # acquire dev sample for loss calculation\n",
    "\n",
    "print(dev_X.shape)\n",
    "dev_x = dev_X[0, 0:-1, :]\n",
    "dev_y = dev_y[0, 0:-1, :]\n",
    "print(dev_x.shape)\n",
    "train_loader.dataset.win = 8096 * 2\n",
    "change = 0\n",
    "#t = tqdm(range(epochs))\n",
    "t = tqdm(range(epochs))\n",
    "for e in t:\n",
    "    epoch_tr_loss = 0\n",
    "    epoch_dev_loss = 0\n",
    "    for i, (X, y) in enumerate(train_loader):\n",
    "        y_pred = model(X)\n",
    "        \n",
    "        optimiser.zero_grad()\n",
    "        loss = crit(y_pred, y)\n",
    "        epoch_tr_loss += loss.item()\n",
    "        loss.backward()\n",
    "        optimiser.step()\n",
    "        \n",
    "        dev_pred = model(dev_x.unsqueeze(0))\n",
    "        \n",
    "        epoch_dev_loss += crit(dev_pred.squeeze(0), dev_y).item()\n",
    "        \n",
    "    if e % 1 == 0:    \n",
    "        epoch_dev_loss /=  dat_len\n",
    "        epoch_tr_loss /= dat_len\n",
    "        dev_losses.append(epoch_dev_loss)\n",
    "        tr_losses.append(epoch_tr_loss)\n",
    "        if len(dev_losses) > 1: change = dev_losses[-2] - dev_losses[-1]\n",
    "        t.set_description(desc=f\"Epoch: {e}, dev loss: {round(epoch_dev_loss, 5)}, tr loss: {round(epoch_tr_loss, 5)}, dev change: {change}\")\n",
    "        \n",
    "    if len(dev_losses) > 1 and abs(dev_losses[-1] - dev_losses[-2]) < eps:\n",
    "        print(\"Converged!\")\n",
    "        print(dev_losses)\n",
    "        break"
   ]
  },
  {
   "cell_type": "code",
   "execution_count": 11,
   "id": "9b54524c",
   "metadata": {},
   "outputs": [
    {
     "data": {
      "image/png": "[encoded data removed]",
      "text/plain": [
       "<Figure size 576x576 with 1 Axes>"
      ]
     },
     "metadata": {
      "needs_background": "light"
     },
     "output_type": "display_data"
    }
   ],
   "source": [
    "plt.figure(figsize=(8, 8))\n",
    "plt.plot(tr_losses, label=\"Training Set\")\n",
    "plt.plot(dev_losses, label=\"Development Set\")\n",
    "\n",
    "plt.legend()\n",
    "\n",
    "# plt.yscale('log')\n",
    "plt.show()"
   ]
  },
  {
   "cell_type": "code",
   "execution_count": 12,
   "id": "c75c8952",
   "metadata": {},
   "outputs": [
    {
     "name": "stdout",
     "output_type": "stream",
     "text": [
      "test\n",
      "0.08121265766762559\n",
      "0.18972033961421017\n",
      "0.12095932705839545\n",
      "0.1712209958535803\n",
      "0.10804991771804717\n",
      "0.08475821654209603\n",
      "0.2898962218418892\n",
      "0.20109330705061118\n"
     ]
    }
   ],
   "source": [
    "\n",
    "from VoiceData import VoiceDataSet\n",
    "\n",
    "\n",
    "VDS = VoiceDataSet(\"test\", window_length=0, transform=norm_transform)\n",
    "\n",
    "test_loader = DataLoader(VDS, shuffle=True, batch_size=1)\n",
    "\n",
    "for i, (X, y) in enumerate(test_loader):\n",
    "    \n",
    "    with torch.no_grad():\n",
    "        y_pred = model(X)\n",
    "        \n",
    "        y_pred = np.array(y_pred.squeeze())\n",
    "        y = np.array(y.squeeze())\n",
    "        \n",
    "        \n",
    "        fpr, tpr, threshold = roc_curve(y, y_pred, pos_label=1)\n",
    "        fnr = 1 - tpr\n",
    "        eer_threshold = threshold[np.nanargmin(np.absolute((fnr - fpr)))]\n",
    "        EER = fpr[np.nanargmin(np.absolute((fnr - fpr)))]\n",
    "        print(EER)"
   ]
  },
  {
   "cell_type": "code",
   "execution_count": null,
   "id": "d04eb485",
   "metadata": {},
   "outputs": [],
   "source": []
  },
  {
   "cell_type": "code",
   "execution_count": null,
   "id": "8cdd1ade",
   "metadata": {},
   "outputs": [],
   "source": []
  },
  {
   "cell_type": "code",
   "execution_count": null,
   "id": "1b4fb206",
   "metadata": {},
   "outputs": [],
   "source": []
  }
 ],
 "metadata": {
  "kernelspec": {
   "display_name": "Python 3",
   "language": "python",
   "name": "python3"
  },
  "language_info": {
   "codemirror_mode": {
    "name": "ipython",
    "version": 3
   },
   "file_extension": ".py",
   "mimetype": "text/x-python",
   "name": "python",
   "nbconvert_exporter": "python",
   "pygments_lexer": "ipython3",
   "version": "3.8.10"
  }
 },
 "nbformat": 4,
 "nbformat_minor": 5
}
