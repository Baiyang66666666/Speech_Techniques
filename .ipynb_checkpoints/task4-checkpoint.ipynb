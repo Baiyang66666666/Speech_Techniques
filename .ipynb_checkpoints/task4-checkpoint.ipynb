{
 "cells": [
  {
   "cell_type": "code",
   "execution_count": 1,
   "id": "0295c796",
   "metadata": {},
   "outputs": [
    {
     "data": {
      "text/plain": [
       "<torch._C.Generator at 0x1df3dc9f9b0>"
      ]
     },
     "execution_count": 1,
     "metadata": {},
     "output_type": "execute_result"
    }
   ],
   "source": [
    "import numpy as np\n",
    "from matplotlib import pyplot as plt\n",
    "import os\n",
    "from torch.utils.data import Dataset\n",
    "from torch.utils.data import DataLoader\n",
    "from torchvision import transforms\n",
    "import torch\n",
    "import torch.nn as nn\n",
    "import torch.nn.functional as F \n",
    "import torch.optim as optim\n",
    "from tqdm import tqdm\n",
    "from sklearn.metrics import roc_curve\n",
    "import torch.multiprocessing as mp\n",
    "\n",
    "os.environ[\"KMP_DUPLICATE_LIB_OK\"]=\"TRUE\"\n",
    "\n",
    "torch.manual_seed(12)"
   ]
  },
  {
   "cell_type": "code",
   "execution_count": 2,
   "id": "d21b07d6",
   "metadata": {},
   "outputs": [],
   "source": [
    "from torch.utils.data import Dataset, DataLoader\n",
    "import os, random\n",
    "import numpy as np\n",
    "import torchvision\n",
    "data_folder = \"/Users/dell/Desktop/assignments/Task4VAD/com4511/audio\"\n",
    "labs_folder = \"/Users/dell/Desktop/assignments/Task4VAD/com4511/labels\"\n",
    "\n",
    "train_prefixes = [\"N\", \"V\"]\n",
    "valid_prefixes = [\"E\"]\n",
    "test_prefixes = [\"C\"]\n",
    "\n",
    "#dataset class for loading and preprocessing audio data for training, validation, and testing purposes.\n",
    "class VoiceDataSet (Dataset):\n",
    "    def __init__(self, dataset, transform=None, window_length=512):\n",
    "        self.prefix = [\"C\"]\n",
    "        #These prefixes are used later to generate file paths for training, validation, and testing data\n",
    "        if dataset.lower () == \"train\":\n",
    "            self.prefix = train_prefixes\n",
    "        if dataset.lower () == \"val\":\n",
    "            self.prefix = valid_prefixes\n",
    "        if dataset.lower () == \"test\":\n",
    "            print (dataset.lower ())\n",
    "            self.prefix == [\"C\"]\n",
    "        #generates file paths using the gen_paths method and calculates the length of the dataset\n",
    "        self.paths = self.gen_paths (self.prefix)\n",
    "        self.len = len (self.paths[0])\n",
    "        self.win = window_length\n",
    "        self.transform = transform\n",
    "    #retrieves an item from the dataset based on the given index\n",
    "    def __getitem__(self, idx):\n",
    "        X, y = self.readpath (self.paths[0][idx], self.paths[1][idx])\n",
    "        l = X.size (dim=0)\n",
    "        #randomly selects a window of length\n",
    "        i = random.randint (0, l - self.win)\n",
    "    \n",
    "        if self.win == 0:\n",
    "            if self.transform:\n",
    "                temp = X.view (1, -1, 13).permute (2, 0, 1)\n",
    "\n",
    "                X = self.transform (temp)\n",
    "                X = X.view (13, -1).permute (1, 0)\n",
    "                return X, y.type (torch.float32)\n",
    "            else:\n",
    "                return X, y.type (torch.float32)\n",
    "\n",
    "        X = X[i:i + self.win]\n",
    "        y = y[i:i + self.win]\n",
    "        #applies the specified transformation\n",
    "        if self.transform:\n",
    "            temp = X.view (1, -1, 13).permute (2, 0, 1)\n",
    "\n",
    "            X = self.transform (temp)\n",
    "            X = X.view (13, -1).permute (1, 0)\n",
    "\n",
    "        return X, y.type (torch.float32)\n",
    "\n",
    "    def __len__(self):\n",
    "        return self.len\n",
    "    #reads the audio and label data from the specified file paths\n",
    "    def readpath(self, d_path, l_path):\n",
    "        #convert it from numpy to pytorch tensosr\n",
    "        with open (d_path, 'rb') as f:\n",
    "            X = torch.from_numpy (np.load (f))\n",
    "\n",
    "        with open (l_path, 'rb') as f:\n",
    "            y = torch.from_numpy (np.load (f))\n",
    "\n",
    "        return X, y\n",
    "\n",
    "    def gen_paths(self, prefixes):\n",
    "        #generates file paths for the specified prefixes by iterating over \n",
    "        #the files in the data and labels folders\n",
    "        os.chdir (data_folder)\n",
    "        data_paths = [f\"{data_folder}/{file}\" for file in os.listdir () if file[0] in prefixes]\n",
    "\n",
    "        os.chdir (labs_folder)\n",
    "        labs_paths = [f\"{labs_folder}/{file}\" for file in os.listdir () if file[0] in prefixes]\n",
    "        #return file paths containing data and labels\n",
    "        return (data_paths, labs_paths)\n"
   ]
  },
  {
   "cell_type": "code",
   "execution_count": 3,
   "id": "4d9b9d48",
   "metadata": {},
   "outputs": [],
   "source": [
    "def data_means_std(prefixes):\n",
    "    ##calculates the standard deviation and mean values of the audio data\n",
    "    data_paths, label_paths = VoiceDataSet.gen_paths(VoiceDataSet,prefixes=prefixes)\n",
    "    data, label_data = [], []\n",
    "    \n",
    "    for d, label in zip(data_paths, label_paths):\n",
    "        temp_d, temp_l = VoiceDataSet.readpath(VoiceDataSet, d, label)\n",
    "        data.append(temp_d)\n",
    "    #cat data\n",
    "    total_data = torch.cat(data)\n",
    "    #calculate mean and stds\n",
    "    stds, means = torch.std_mean(total_data, dim=0)\n",
    "    \n",
    "    return stds, means\n",
    "    \n",
    "    \n",
    "train_stds, train_means = data_means_std(train_prefixes)\n",
    "\n",
    "#creates a composition of transformations contain normalization transformation\n",
    "n_transform = transforms.Compose([\n",
    "    transforms.Normalize(train_means, train_stds)]\n",
    ")\n"
   ]
  },
  {
   "cell_type": "code",
   "execution_count": 4,
   "id": "5e25bdb9",
   "metadata": {},
   "outputs": [],
   "source": [
    "#it determines the size of the windows that will be randomly selected from the audio data\n",
    "window_length = 512\n",
    "\n",
    "VoiceSet = VoiceDataSet(\"train\", window_length=window_length, transform=n_transform)\n",
    "\n",
    "b_size = 8\n",
    "\n",
    "#creates the data loader for the training dataset.\n",
    "train_loader = DataLoader(VoiceSet, shuffle=True, batch_size=b_size)"
   ]
  },
  {
   "cell_type": "code",
   "execution_count": 5,
   "id": "3be68ea2",
   "metadata": {},
   "outputs": [],
   "source": [
    "#the recurrent neural network (RNN) with LSTM cells\n",
    "class LSTM_network(nn.Module):\n",
    "    def __init__(self, hidden_size = 13, hidden_layers=1, bidirectional = False):\n",
    "        super(LSTM_network,self).__init__()\n",
    "        #hidden layer size is 13, and the number of hidden layers is 1 by default\n",
    "        self.lstm = nn.LSTM(input_size=13,hidden_size=hidden_size,num_layers=hidden_layers,batch_first=True)\n",
    "        #The dimensional order of the input data is is (batch_size, seq_length, input_size)\n",
    "        self.fc1 = nn.Linear(in_features=hidden_size,out_features=1)\n",
    "        self.sigmoid = nn.Sigmoid()\n",
    "        #choose bidirection or single direction\n",
    "        self.bidirectional = bidirectional\n",
    "\n",
    "    def forward(self,x):\n",
    "       # The output output is the hidden state of the LSTM at each time step, and the hidden state at the final time step\n",
    "        output,_status = self.lstm(x)\n",
    "        #output is passed to the linear layer self.fc1 for linear transformation\n",
    "        output = self.fc1(output)\n",
    "        #activition\n",
    "        output = self.sigmoid(output)\n",
    "       \n",
    "        return output"
   ]
  },
  {
   "cell_type": "code",
   "execution_count": 6,
   "id": "ca80f448",
   "metadata": {},
   "outputs": [
    {
     "name": "stderr",
     "output_type": "stream",
     "text": [
      "Epoch: 10, loss: 0.10083: 100%|████████████████████████████████████████████████████████| 10/10 [00:03<00:00,  3.05it/s]\n"
     ]
    }
   ],
   "source": [
    "from tqdm import tqdm\n",
    "\n",
    "#training løøp\n",
    "#An instance of LSTM_network is created and some parameters are passed in\n",
    "model = LSTM_network(hidden_size=26, hidden_layers=2, bidirectional=True)\n",
    "#BCELoss is a common loss function to binary classfication \n",
    "crit = nn.BCELoss()\n",
    "optimiser = optim.Adam(model.parameters(), lr=1e-4 , betas = [0.9, 0.99])\n",
    "\n",
    "eps = 1e-7\n",
    "epochs = 10\n",
    "losses = [0.1]\n",
    "\n",
    "#Adjusting the window size of data in the data loader\n",
    "train_loader.dataset.win = 5000\n",
    "dat_len = len(train_loader.dataset)\n",
    "# dat_len=8096\n",
    "\n",
    "#obtain the validation dataset (val_X and val_y) for validating the model\n",
    "test_win_len = 8096\n",
    "#get next batch of data(tensor of data and labels)\n",
    "val_X, val_y = next(iter(DataLoader(VoiceDataSet(\"val\", transform=n_transform, window_length=8096))))\n",
    "\n",
    "#Slicing operation to remove data from the last time step\n",
    "val_x = val_X[0, 0:-1, :]\n",
    "val_y = val_y[0, 0:-1, :]\n",
    "train_loader.dataset.win = window_length\n",
    "\n",
    "t =tqdm(range(epochs))\n",
    "for e in t:\n",
    "    epoch_loss = 0\n",
    "    for i, (X, y) in enumerate(train_loader):\n",
    "        #forward pass\n",
    "        y_pred = model(X)\n",
    "        #Gradient to zero\n",
    "        optimiser.zero_grad()\n",
    "        #calculate loss\n",
    "        loss = crit(y_pred, y)\n",
    "        #backward pass and update parameters\n",
    "        loss.backward()\n",
    "        optimiser.step()\n",
    "        \n",
    "        #Perform dimensional expansion, 2 dim->3 dim, (1, seq_length, input_size)\n",
    "        val_pred = model(val_x.unsqueeze(0))\n",
    "        \n",
    "        #Record the total loss value for the current round\n",
    "        epoch_loss += crit(val_pred.squeeze(0), val_y)\n",
    "        \n",
    "    if e % 1 == 0:    \n",
    "        epoch_loss /=  dat_len\n",
    "        losses.append(epoch_loss)\n",
    "        t.set_description(desc=f\"Epoch: {e + 1}, loss: {round(epoch_loss.item(), 5)}\")\n",
    "        \n",
    "    if abs(losses[-1] - losses[-2]) < eps:\n",
    "        print(\"Converged!\")\n",
    "        break\n",
    " "
   ]
  },
  {
   "cell_type": "code",
   "execution_count": 7,
   "id": "70170793",
   "metadata": {},
   "outputs": [
    {
     "data": {
      "image/png": "[encoded data removed]",
      "text/plain": [
       "<Figure size 432x288 with 1 Axes>"
      ]
     },
     "metadata": {
      "needs_background": "light"
     },
     "output_type": "display_data"
    }
   ],
   "source": [
    "if losses[0] == 0.1: losses.remove(0.1)\n",
    "plt.plot([l.item() for l in losses])\n",
    "# plt.yscale('log')\n",
    "plt.show()"
   ]
  },
  {
   "cell_type": "code",
   "execution_count": 8,
   "id": "ebdaae8b",
   "metadata": {},
   "outputs": [
    {
     "name": "stdout",
     "output_type": "stream",
     "text": [
      "test\n",
      "0.7117991772918084\n",
      "0.6751508502468458\n",
      "0.6149270127355329\n",
      "0.4135643691692801\n",
      "0.6273712874808214\n",
      "0.6433238263921961\n",
      "0.6296439306633084\n",
      "0.7030316441690639\n"
     ]
    }
   ],
   "source": [
    "import tqdm\n",
    "#get test data\n",
    "VoiceSet = VoiceDataSet(\"test\", window_length=0, transform=n_transform)\n",
    "\n",
    "test_loader = DataLoader(VoiceSet, shuffle=True, batch_size=1)\n",
    "\n",
    "#Loop for inference and performance evaluation on test sets\n",
    "for i, (X, y) in enumerate(test_loader):\n",
    "    \n",
    "    with torch.no_grad():\n",
    "        y_pred = model(X)\n",
    "        #Use the np.squeeze() function to reduce it from a tensor of shape (1, seq_length, 1) to a one-dimensional array of shape (seq_length,).\n",
    "        y_pred = np.array(y_pred.squeeze())\n",
    "        y = np.array(y.squeeze())\n",
    "        \n",
    "        #Calculate the False Positive Rate, True Positive Rate and Threshold of the ROC curve\n",
    "        fpr, tpr, threshold = roc_curve(y, y_pred, pos_label=1)\n",
    "        fnr = 1 - tpr\n",
    "        #Find the threshold of the Equal Error Rate based on the difference between the fnr and tpr\n",
    "        eer_threshold = threshold[np.nanargmin(np.absolute((fnr - fpr)))]\n",
    "        #find the index with the smallest absolute value of the difference\n",
    "        EER = fpr[np.nanargmin(np.absolute((fnr - fpr)))]\n",
    "        print(EER)"
   ]
  },
  {
   "cell_type": "code",
   "execution_count": 9,
   "id": "11bc2d4a",
   "metadata": {},
   "outputs": [],
   "source": [
    "import torch.nn.functional as F\n",
    "\n",
    "#Creating feed-forward neural networks\n",
    "class FFNN_network (nn.Module):\n",
    "    def __init__(self, hidden_dims=[13], input_size=13, out_size=1):\n",
    "        super (FFNN_network, self).__init__ ()\n",
    "        self.layers = nn.ModuleList ()\n",
    "        self.layers.append (nn.Linear (input_size, hidden_dims[0]))\n",
    "        #Activation functions\n",
    "        self.act = nn.ReLU ()\n",
    "        #output activation function\n",
    "        self.sigmoid = nn.Sigmoid ()\n",
    "\n",
    "        # hidden layers generation\n",
    "        #By dynamically creating the network structure in the constructor, it is possible to build feedforward neural networks with different number of layers and different dimensions in a flexible way\n",
    "        lay_dim = hidden_dims[0]\n",
    "        for l in hidden_dims:\n",
    "            self.layers.append (nn.Linear (lay_dim, l))\n",
    "            lay_dim = l  \n",
    "        \n",
    "        # Add linear layer between the last hidden layer and the output layer to layers\n",
    "        self.layers.append (nn.Linear (lay_dim, out_size))\n",
    "\n",
    "    def forward(self, x):\n",
    "        # loop over all but last, ReLu not applied to last\n",
    "        for layer in self.layers[:-1]:  \n",
    "            x = self.act (layer (x))\n",
    "        out = self.sigmoid (self.layers[-1] (x))\n",
    "        return out"
   ]
  },
  {
   "cell_type": "code",
   "execution_count": 10,
   "id": "d3e3ed9c",
   "metadata": {},
   "outputs": [
    {
     "name": "stdout",
     "output_type": "stream",
     "text": [
      "[11, 10, 9, 8, 7, 6, 5, 4, 3]\n",
      "torch.Size([1, 32768, 13])\n",
      "torch.Size([32767, 13])\n"
     ]
    },
    {
     "name": "stderr",
     "output_type": "stream",
     "text": [
      "Epoch: 499, val loss: 0.08652, tr loss: 0.02343, val change: -0.0020976976344459913: 100%|█| 500/500 [04:36<00:00,  1.8\n"
     ]
    }
   ],
   "source": [
    "### FFNN\n",
    "from tqdm import tqdm\n",
    "\n",
    "#define model and loss function and optimiser\n",
    "model = FFNN_network(hidden_dims=[28, 26])\n",
    "crit = nn.BCELoss() \n",
    "optimiser = optim.Adam(model.parameters(), lr=8e-4 , betas = [0.9, 0.99])) \n",
    "\n",
    "#set hyperparameters\n",
    "eps = 1e-8\n",
    "epochs = 500\n",
    "\n",
    "val_losses = []\n",
    "tr_losses = []\n",
    "preds = []\n",
    "\n",
    "#length of window\n",
    "train_loader.dataset.win = 5000\n",
    "dat_len = len(train_loader.dataset)\n",
    "\n",
    "#Obtained a sample validation set for loss calculation\n",
    "test_win_len = 32768\n",
    "val_X, val_y = next(iter(DataLoader(VoiceDataSet(\"val\", transform=n_transform, window_length=test_win_len)))) # acquire dev sample for loss calculation\n",
    "val_x = val_X[0, 0:-1, :]\n",
    "val_y = val_y[0, 0:-1, :]\n",
    "\n",
    "#Set to twice the window length to ensure that the training data covers the complete input window of the model\n",
    "train_loader.dataset.win = 8096 * 2\n",
    "#change is used to determine the termination conditions for model training\n",
    "change = 0\n",
    "\n",
    "t = tqdm(range(epochs))\n",
    "#Iterate over the training data for each batch\n",
    "for e in t:\n",
    "    epoch_tr_loss = 0\n",
    "    epoch_val_loss = 0\n",
    "    for i, (X, y) in enumerate(train_loader):\n",
    "        y_pred = model(X)\n",
    "        \n",
    "        optimiser.zero_grad()\n",
    "        loss = crit(y_pred, y)\n",
    "        epoch_tr_loss += loss.item()\n",
    "        loss.backward()\n",
    "        optimiser.step()\n",
    "        \n",
    "        val_pred = model(val_x.unsqueeze(0))\n",
    "        \n",
    "        epoch_val_loss += crit(val_pred.squeeze(0), val_y).item()\n",
    "        \n",
    "    if e % 1 == 0:    \n",
    "        #Calculating the average data set loss\n",
    "        epoch_val_loss /=  dat_len\n",
    "        epoch_tr_loss /= dat_len\n",
    "        val_losses.append(epoch_val_loss)\n",
    "        tr_losses.append(epoch_tr_loss)\n",
    "        if len(val_losses) > 1: \n",
    "            change = val_losses[-2] - val_losses[-1]\n",
    "        t.set_description(desc=f\"Epoch: {e}, val loss: {round(epoch_val_loss, 5)}, tr loss: {round(epoch_tr_loss, 5)}, val change: {change}\")\n",
    "        \n",
    "    if len(val_losses) > 1 and abs(val_losses[-1] - val_losses[-2]) < eps:\n",
    "        print(\"Converged!\")\n",
    "        print(val_losses)\n",
    "        break"
   ]
  },
  {
   "cell_type": "code",
   "execution_count": 11,
   "id": "9b54524c",
   "metadata": {},
   "outputs": [
    {
     "data": {
      "image/png": "[encoded data removed]",
      "text/plain": [
       "<Figure size 576x576 with 1 Axes>"
      ]
     },
     "metadata": {
      "needs_background": "light"
     },
     "output_type": "display_data"
    }
   ],
   "source": [
    "plt.figure(figsize=(8, 8))\n",
    "plt.plot(tr_losses, label=\"Training Set\")\n",
    "plt.plot(val_losses, label=\"Development Set\")\n",
    "\n",
    "plt.legend()\n",
    "\n",
    "# plt.yscale('log')\n",
    "plt.show()"
   ]
  },
  {
   "cell_type": "code",
   "execution_count": 12,
   "id": "c75c8952",
   "metadata": {},
   "outputs": [
    {
     "name": "stdout",
     "output_type": "stream",
     "text": [
      "test\n",
      "0.27349848141589417\n",
      "0.1757654243248702\n",
      "0.11987307430931983\n",
      "0.19530162471930662\n",
      "0.08318025500340286\n",
      "0.1872439859983615\n",
      "0.07561091265450637\n",
      "0.11132062534284147\n"
     ]
    }
   ],
   "source": [
    "VoiceSet = VoiceDataSet(\"test\", window_length=0, transform=n_transform)\n",
    "\n",
    "test_loader = DataLoader(VoiceSet, shuffle=True, batch_size=1)\n",
    "\n",
    "for i, (X, y) in enumerate(test_loader):\n",
    "    \n",
    "    with torch.no_grad():\n",
    "        y_pred = model(X)\n",
    "        \n",
    "        y_pred = np.array(y_pred.squeeze())\n",
    "        y = np.array(y.squeeze())\n",
    "        \n",
    "        \n",
    "        fpr, tpr, threshold = roc_curve(y, y_pred, pos_label=1)\n",
    "        fnr = 1 - tpr\n",
    "        eer_threshold = threshold[np.nanargmin(np.absolute((fnr - fpr)))]\n",
    "        EER = fpr[np.nanargmin(np.absolute((fnr - fpr)))]\n",
    "        print(EER)"
   ]
  },
  {
   "cell_type": "code",
   "execution_count": null,
   "id": "d04eb485",
   "metadata": {},
   "outputs": [],
   "source": []
  },
  {
   "cell_type": "code",
   "execution_count": null,
   "id": "8cdd1ade",
   "metadata": {},
   "outputs": [],
   "source": []
  },
  {
   "cell_type": "code",
   "execution_count": null,
   "id": "1b4fb206",
   "metadata": {},
   "outputs": [],
   "source": []
  }
 ],
 "metadata": {
  "kernelspec": {
   "display_name": "Python 3",
   "language": "python",
   "name": "python3"
  },
  "language_info": {
   "codemirror_mode": {
    "name": "ipython",
    "version": 3
   },
   "file_extension": ".py",
   "mimetype": "text/x-python",
   "name": "python",
   "nbconvert_exporter": "python",
   "pygments_lexer": "ipython3",
   "version": "3.8.10"
  }
 },
 "nbformat": 4,
 "nbformat_minor": 5
}
